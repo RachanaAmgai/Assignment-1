{
 "cells": [
  {
   "cell_type": "code",
   "execution_count": null,
   "id": "1dc7f082-1c0e-48bf-87e5-fbc74ec132b6",
   "metadata": {},
   "outputs": [],
   "source": [
    "# Rachana Amgai\n",
    "# Assignment 1\n",
    "# 9/6/2024"
   ]
  },
  {
   "cell_type": "code",
   "execution_count": 209,
   "id": "47601d1d-852b-4fe2-8251-68b94444e5bc",
   "metadata": {},
   "outputs": [
    {
     "name": "stdout",
     "output_type": "stream",
     "text": [
      "      sqft  sale_price  sale_price_pred\n",
      "0     2416      208500      215635.4687\n",
      "1     2240      181500      202432.1633\n",
      "2     2272      223500      204832.7643\n",
      "3     1933      140000      179401.3976\n",
      "4     2853      250000      248418.6758\n",
      "...    ...         ...              ...\n",
      "1455  1647      175000      157946.0263\n",
      "1456  2863      210000      249168.8636\n",
      "1457  2615      266500      230564.2060\n",
      "1458  1127      142125      118936.2604\n",
      "1459  2086      147500      190879.2710\n",
      "\n",
      "[1460 rows x 3 columns]\n"
     ]
    }
   ],
   "source": [
    "import pandas as pd\n",
    "import numpy as np\n",
    "from matplotlib import pyplot as plt\n",
    "%matplotlib inline\n",
    "housingdata = pd.read_csv(r\"E:\\Rachana Bellevue\\housing_data.csv\")\n",
    "mushroom =  pd.read_csv(r\"E:\\Rachana Bellevue\\mushroom_data.csv\")\n",
    "print(housingdata)"
   ]
  },
  {
   "cell_type": "code",
   "execution_count": null,
   "id": "d5b98f33-df59-4985-9e73-3f14a680c636",
   "metadata": {},
   "outputs": [],
   "source": [
    "# Question no 1 part a # Calculation of RMSE"
   ]
  },
  {
   "cell_type": "code",
   "execution_count": 211,
   "id": "ae01c82b-658e-4e2b-bc85-115a806120de",
   "metadata": {},
   "outputs": [
    {
     "name": "stdout",
     "output_type": "stream",
     "text": [
      "RMSE is: 39.00549411850299\n"
     ]
    }
   ],
   "source": [
    "actual_values_array = np.array([2,3,9,8,54,112,10])\n",
    "predicted_values_array = np.array([8,7,9,5,6,114,101])\n",
    "meanSquaredError = ((predicted_values_array - actual_values_array)**2).mean()\n",
    "rmse = np.sqrt(meanSquaredError)\n",
    "print(\"RMSE is:\", rmse)\n"
   ]
  },
  {
   "cell_type": "code",
   "execution_count": null,
   "id": "fa195c79-53a5-4f26-9d29-f6d16b531a64",
   "metadata": {},
   "outputs": [],
   "source": [
    "# Question no 1 part b #  Calculation of RMSE"
   ]
  },
  {
   "cell_type": "code",
   "execution_count": 213,
   "id": "b3ad7c08-d0f0-4c13-a70d-602b771fe4f7",
   "metadata": {},
   "outputs": [
    {
     "name": "stdout",
     "output_type": "stream",
     "text": [
      "RMSE is: 55064.0688338987\n"
     ]
    }
   ],
   "source": [
    "# Display the first row of the dataframe (to inspect the data)\n",
    "housingdata.head(1)\n",
    "\n",
    "# Calculate Mean Squared Error (MSE)\n",
    "MSE_housing = np.square(np.subtract(housingdata['sale_price'], housingdata['sale_price_pred'])).mean()\n",
    "\n",
    "# Calculate Root Mean Squared Error (RMSE)\n",
    "RMSE_housing = np.sqrt(MSE_housing)\n",
    "\n",
    "# Print the RMSE\n",
    "print('RMSE is:', RMSE_housing)\n"
   ]
  },
  {
   "cell_type": "code",
   "execution_count": null,
   "id": "851873cd-3742-49ed-af67-4f319e267377",
   "metadata": {},
   "outputs": [],
   "source": [
    "# Question no 2 part a (Calculation of MAE)"
   ]
  },
  {
   "cell_type": "code",
   "execution_count": 215,
   "id": "ce94fc9c-c4cd-46ae-a340-813dbbdcf15c",
   "metadata": {},
   "outputs": [
    {
     "name": "stdout",
     "output_type": "stream",
     "text": [
      "Mean Absolute Error MAE is: 35.142857142857146\n"
     ]
    }
   ],
   "source": [
    "RandomNumbersActual = [8, 12, 24, 63, 18, 79, 9]\n",
    "RandomNumbersPredicted = [45, 2, 5, 11, 90, 28, 14]\n",
    "n = 7\n",
    "answer = 0\n",
    "\n",
    "# Loop through and calculate the absolute error\n",
    "for i in range(n):\n",
    "    answer += abs(RandomNumbersActual[i] - RandomNumbersPredicted[i])\n",
    "\n",
    "# Calculate Mean Absolute Error\n",
    "error = answer / n\n",
    "print('Mean Absolute Error MAE is:', error)\n"
   ]
  },
  {
   "cell_type": "code",
   "execution_count": null,
   "id": "8103664d-f6b4-4bcd-87da-97aff557f63e",
   "metadata": {},
   "outputs": [],
   "source": [
    "# Question no 2 part b (Calculation of MAE)"
   ]
  },
  {
   "cell_type": "code",
   "execution_count": 217,
   "id": "778da01f-7c15-49bf-b066-595287169a69",
   "metadata": {},
   "outputs": [
    {
     "name": "stdout",
     "output_type": "stream",
     "text": [
      "Mean Absolute Error MAE is: 37438.689162705436\n"
     ]
    }
   ],
   "source": [
    "n = 1460\n",
    "value = 0\n",
    "for i in range(n):\n",
    " value += abs(housingdata.sale_price[i] - housingdata.sale_price_pred[i])\n",
    "maeError = value/n\n",
    "print('Mean Absolute Error MAE is:', maeError)"
   ]
  },
  {
   "cell_type": "code",
   "execution_count": null,
   "id": "db0d9a45-d070-43eb-8caf-e5fc6eae391d",
   "metadata": {},
   "outputs": [],
   "source": [
    "# Question no 3 part a and b"
   ]
  },
  {
   "cell_type": "code",
   "execution_count": 219,
   "id": "d14f3539-6525-460b-b9ef-8f19c3dea272",
   "metadata": {},
   "outputs": [
    {
     "name": "stdout",
     "output_type": "stream",
     "text": [
      "Accuracy: 0.25\n",
      "  actual predicted  actual1  predicted1\n",
      "0      p         e        0           1\n",
      "1      e         e        1           1\n",
      "2      p         p        0           0\n",
      "3      e         p        1           0\n",
      "4      p         e        0           1\n",
      "Mushroom Data Accuracy: 0.4\n"
     ]
    }
   ],
   "source": [
    "# Sample true and predicted values\n",
    "true_val = [0, 1, 1, 1, 0, 0, 1, 0]\n",
    "pred_val = [1, 0, 1, 0, 1, 1, 1, 1]\n",
    "\n",
    "# Accuracy function with proper indentation\n",
    "def accuracy(true_val, pred_val):\n",
    "    accuracy_value = np.sum(np.equal(true_val, pred_val)) / len(true_val)\n",
    "    return accuracy_value\n",
    "\n",
    "# Test accuracy function\n",
    "print(\"Accuracy:\", accuracy(true_val, pred_val))\n",
    "\n",
    "# Sample mushroom data\n",
    "mushroom = pd.DataFrame({\n",
    "    'actual': ['p', 'e', 'p', 'e', 'p'],\n",
    "    'predicted': ['e', 'e', 'p', 'p', 'e']\n",
    "})\n",
    "\n",
    "# Simplify the variable conversion function\n",
    "def convert(series):\n",
    "    if series == \"p\":\n",
    "        return 0\n",
    "    if series == \"e\":\n",
    "        return 1\n",
    "\n",
    "# Apply conversion to actual and predicted columns\n",
    "mushroom['actual1'] = mushroom['actual'].apply(convert)\n",
    "mushroom['predicted1'] = mushroom['predicted'].apply(convert)\n",
    "\n",
    "# Check the updated DataFrame\n",
    "print(mushroom.head())\n",
    "\n",
    "# Calculate and print accuracy using the new columns\n",
    "accuracy_value = accuracy(mushroom['actual1'], mushroom['predicted1'])\n",
    "print(\"Mushroom Data Accuracy:\", accuracy_value)"
   ]
  },
  {
   "cell_type": "code",
   "execution_count": null,
   "id": "30c48d80-c403-4f5c-9af1-6bd202c2898d",
   "metadata": {},
   "outputs": [],
   "source": [
    "# Qestion no 4 part a"
   ]
  },
  {
   "cell_type": "code",
   "execution_count": 221,
   "id": "9384845b-1b37-427a-8c67-886e000e8cc6",
   "metadata": {},
   "outputs": [],
   "source": [
    "def f(p):\n",
    "    val = (0.005 * pow(p,6)) - (0.275 * pow(p,5)) + (5.998 * pow(p,4)) - (69.919 * pow(p,3)) + (449.17 * pow(p,2)) - (1499.7 * p) + (2028)\n",
    "    return val"
   ]
  },
  {
   "cell_type": "code",
   "execution_count": null,
   "id": "ef9d9dcf-aa5a-4457-b746-9a57534a3c8e",
   "metadata": {},
   "outputs": [],
   "source": [
    "import numpy as np\n",
    "import matplotlib.pyplot as plt"
   ]
  },
  {
   "cell_type": "code",
   "execution_count": 223,
   "id": "966fe98c-6013-4d45-b4b5-ffcbd93e3261",
   "metadata": {},
   "outputs": [],
   "source": [
    "pvalues = np.linspace(-10, 10, 50, endpoint = True)\n",
    "yvalues = []\n",
    "n = len(pvalues)"
   ]
  },
  {
   "cell_type": "code",
   "execution_count": 143,
   "id": "64f90ff4-3fd7-4e30-bf02-e3e7d1db9ef6",
   "metadata": {},
   "outputs": [
    {
     "name": "stdout",
     "output_type": "stream",
     "text": [
      "50\n"
     ]
    }
   ],
   "source": [
    "print(n)"
   ]
  },
  {
   "cell_type": "code",
   "execution_count": 225,
   "id": "3464b72a-feb1-4890-b005-1ad390b30afa",
   "metadata": {},
   "outputs": [],
   "source": [
    "for i in range(n):\n",
    "    y = f(pvalues[i])\n",
    "    yvalues.append(y)"
   ]
  },
  {
   "cell_type": "code",
   "execution_count": 227,
   "id": "6d60a720-f5e2-4685-8e3a-566f0988cd9f",
   "metadata": {},
   "outputs": [
    {
     "data": {
      "text/plain": [
       "224341.0"
      ]
     },
     "execution_count": 227,
     "metadata": {},
     "output_type": "execute_result"
    }
   ],
   "source": [
    "max(yvalues)"
   ]
  },
  {
   "cell_type": "code",
   "execution_count": 229,
   "id": "aad5c23c-9d13-4e38-91f4-677125e3244d",
   "metadata": {},
   "outputs": [
    {
     "data": {
      "text/plain": [
       "-491.0"
      ]
     },
     "execution_count": 229,
     "metadata": {},
     "output_type": "execute_result"
    }
   ],
   "source": [
    "min(yvalues)"
   ]
  },
  {
   "cell_type": "code",
   "execution_count": 233,
   "id": "52430e16-332a-4355-9e4c-9b881744eaa3",
   "metadata": {},
   "outputs": [
    {
     "data": {
      "image/png": "[encoded data removed]",
      "text/plain": [
       "<Figure size 800x800 with 1 Axes>"
      ]
     },
     "metadata": {},
     "output_type": "display_data"
    }
   ],
   "source": [
    "plt.figure(figsize = (8, 8))\n",
    "plt.plot(pvalues, yvalues)\n",
    "plt.ylim(-500, 224350)\n",
    "plt.show()"
   ]
  },
  {
   "cell_type": "code",
   "execution_count": null,
   "id": "887d89e8-461b-4d80-bd5b-73ad1ea3feee",
   "metadata": {},
   "outputs": [],
   "source": [
    "# problem 4 part b\n",
    " ans -minimum error occurs when p is equal to  10.0"
   ]
  },
  {
   "cell_type": "code",
   "execution_count": null,
   "id": "87a0ef0b-6ac2-4b0e-bf05-6eba294e9fd2",
   "metadata": {},
   "outputs": [],
   "source": [
    "# problem 4 part c\n",
    "minimum value of the error is 0 when p is equal to 10.0"
   ]
  }
 ],
 "metadata": {
  "kernelspec": {
   "display_name": "Python 3 (ipykernel)",
   "language": "python",
   "name": "python3"
  },
  "language_info": {
   "codemirror_mode": {
    "name": "ipython",
    "version": 3
   },
   "file_extension": ".py",
   "mimetype": "text/x-python",
   "name": "python",
   "nbconvert_exporter": "python",
   "pygments_lexer": "ipython3",
   "version": "3.12.4"
  }
 },
 "nbformat": 4,
 "nbformat_minor": 5
}
